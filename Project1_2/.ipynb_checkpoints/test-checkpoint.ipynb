{
 "cells": [
  {
   "cell_type": "code",
   "execution_count": 29,
   "metadata": {},
   "outputs": [
    {
     "name": "stdout",
     "output_type": "stream",
     "text": [
      "['this', 'is', 'string', 'example....wow!!!']\n"
     ]
    }
   ],
   "source": [
    "str1 = \"this is string example....wow!!!\"\n",
    "print (str1.split())"
   ]
  },
  {
   "cell_type": "code",
   "execution_count": 30,
   "metadata": {},
   "outputs": [
    {
     "ename": "SyntaxError",
     "evalue": "invalid syntax (<ipython-input-30-ee6cb784339e>, line 5)",
     "output_type": "error",
     "traceback": [
      "\u001b[0;36m  File \u001b[0;32m\"<ipython-input-30-ee6cb784339e>\"\u001b[0;36m, line \u001b[0;32m5\u001b[0m\n\u001b[0;31m    print '%s\\t%s' %(word,1) #to format: word 1, sorted version\u001b[0m\n\u001b[0m                 ^\u001b[0m\n\u001b[0;31mSyntaxError\u001b[0m\u001b[0;31m:\u001b[0m invalid syntax\n"
     ]
    }
   ],
   "source": [
    "for line in sys.stdin:\n",
    "    line=line.strip()\n",
    "    words=line.split()\n",
    "    for word in words:\n",
    "        print '%s\\t%s' %(word,1) #to format: word 1, sorted version\n",
    "#type |sort|\n"
   ]
  },
  {
   "cell_type": "code",
   "execution_count": 27,
   "metadata": {},
   "outputs": [
    {
     "ename": "SyntaxError",
     "evalue": "invalid syntax (<ipython-input-27-9adcc0b3af53>, line 14)",
     "output_type": "error",
     "traceback": [
      "\u001b[0;36m  File \u001b[0;32m\"<ipython-input-27-9adcc0b3af53>\"\u001b[0;36m, line \u001b[0;32m14\u001b[0m\n\u001b[0;31m    if current_word=word: #same word with last line\u001b[0m\n\u001b[0m                   ^\u001b[0m\n\u001b[0;31mSyntaxError\u001b[0m\u001b[0;31m:\u001b[0m invalid syntax\n"
     ]
    }
   ],
   "source": [
    "from operator import itemgetter\n",
    "import sys\n",
    "current_word=None\n",
    "current_count=0\n",
    "word=None\n",
    "\n",
    "for line in sys.stdin:\n",
    "    line=line.strip()\n",
    "    word,count=line.split(\"\\t\",1)\n",
    "    try:\n",
    "        count=int(count)\n",
    "    except ValueError:\n",
    "        continue\n",
    "    if current_word=word: #same word with last line\n",
    "        current_count+=count\n",
    "    else:#different word with last line --> finish calculation of last word\n",
    "        if current_word:# current_word is not null(the first time: current_word is none)\n",
    "            print '%s\\t%s' %(current_word, current_count) #print last line\n",
    "        current_count=count #current count --> new count\n",
    "        current_word=word # current word-->new word\n",
    "if current_word==word:\n",
    "    print '%s\\t%s' %(current_word, current_count) #print last line\n",
    "        "
   ]
  },
  {
   "cell_type": "code",
   "execution_count": 4,
   "metadata": {},
   "outputs": [
    {
     "name": "stdout",
     "output_type": "stream",
     "text": [
      "29\n",
      "29\n"
     ]
    }
   ],
   "source": [
    "# oldArticle + '\\t' + str(sum) + \"\\t\"+ \"\\t\".join([d + \":\" + str(v) for d,v in dateviews.items()])\n",
    "total=100\n",
    "article = 'like'\n",
    "dataviews=[0]*30\n",
    "dataviews[1]=10\n",
    "dataviews[2]=9\n",
    "dataviews[3]=10\n",
    "\n",
    "# for key,value in dataviews.items():\n",
    "#     output_data =str(total)+\"\\t\"+article+\"\\t\"+\"\".join(str(value))\n",
    "#     print(output_data)\n",
    "# print ('%s\\t%s' %('like',1)) #to format: word 1, sorted version\n",
    "\n",
    "print(sum(dataviews))\n",
    "print (sum(i for i in dataviews))\n",
    "# print(str(total) + \"\\t\"+article+ \"\\t\"+\"\\t\".join(str(i) for i in dataviews))"
   ]
  },
  {
   "cell_type": "code",
   "execution_count": 36,
   "metadata": {},
   "outputs": [
    {
     "name": "stdout",
     "output_type": "stream",
     "text": [
      "pageviews 20161109\n"
     ]
    }
   ],
   "source": [
    "source_file=\"pageviews-20161109-000000.gz\"\n",
    "filename = source_file.split(\".\")[0].split(\"-\");\n",
    "[date,hours]=[filename[0],filename[1]]\n",
    "\n",
    "print(date, hours)"
   ]
  },
  {
   "cell_type": "code",
   "execution_count": 11,
   "metadata": {},
   "outputs": [
    {
     "name": "stdout",
     "output_type": "stream",
     "text": [
      "       0            1      2      3      4      5      6      7      8   \\\n",
      "0  340426      Dr._Dre  10805  20579  12274  11068  17309  14906  12935   \n",
      "1  168202   Drew_Brees   3342   2607   2353   2697   2450   5683   7324   \n",
      "2  168202  Eartha_Kitt   9167  13508  12655  15204   7782   5913   4179   \n",
      "3  312074    Education   7124  12138  12153  11802  11151  11354  10858   \n",
      "4  689946      Fascism   7732   8588   9115  10566  12689  13286  14527   \n",
      "\n",
      "      9   ...       22     23     24     25     26     27     28     29  \\\n",
      "0   9326  ...    19402   9221   8945   9208   9154  10429  10580   9356   \n",
      "1   3407  ...     4966   3504   2411   5832   4863   2883  10672   9955   \n",
      "2   3015  ...     3660   3213   2357   2486   2788   9025   4550   3175   \n",
      "3  10130  ...    10966  10444  10840   9557   9443   9034   9825  10084   \n",
      "4  16380  ...    31525  29734  20330  29657  16904  16209  15479  15658   \n",
      "\n",
      "      30     31  \n",
      "0  13084   9249  \n",
      "1   5801   3364  \n",
      "2   3805   3248  \n",
      "3   8726   9288  \n",
      "4  16777  16811  \n",
      "\n",
      "[5 rows x 32 columns]\n"
     ]
    }
   ],
   "source": [
    "import pandas as pd\n",
    "df = pd.read_table('test', index_col=0, encoding='utf-8', header=None)\n",
    "df.to_csv('stdout', encoding='utf-8', header=None,sep=' ')\n",
    "print(df)"
   ]
  },
  {
   "cell_type": "code",
   "execution_count": null,
   "metadata": {},
   "outputs": [],
   "source": []
  }
 ],
 "metadata": {
  "kernelspec": {
   "display_name": "Python 3",
   "language": "python",
   "name": "python3"
  },
  "language_info": {
   "codemirror_mode": {
    "name": "ipython",
    "version": 3
   },
   "file_extension": ".py",
   "mimetype": "text/x-python",
   "name": "python",
   "nbconvert_exporter": "python",
   "pygments_lexer": "ipython3",
   "version": "3.6.4"
  }
 },
 "nbformat": 4,
 "nbformat_minor": 2
}

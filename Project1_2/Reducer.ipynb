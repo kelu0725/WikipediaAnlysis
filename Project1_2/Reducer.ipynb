{
 "cells": [
  {
   "cell_type": "code",
   "execution_count": 2,
   "metadata": {},
   "outputs": [
    {
     "name": "stdout",
     "output_type": "stream",
     "text": [
      "12\t!!!\t0\t0\t0\t0\t0\t0\t0\t0\t0\t12\t0\t0\t0\t0\t0\t0\t0\t0\t0\t0\t0\t0\t0\t0\t0\t0\t0\t0\t0\t0\n",
      "3\t!!!_(album)\t0\t0\t0\t0\t0\t0\t0\t0\t0\t3\t0\t0\t0\t0\t0\t0\t0\t0\t0\t0\t0\t0\t0\t0\t0\t0\t0\t0\t0\t0\n",
      "1\t!Hero_(album)\t0\t0\t0\t0\t0\t0\t0\t0\t0\t1\t0\t0\t0\t0\t0\t0\t0\t0\t0\t0\t0\t0\t0\t0\t0\t0\t0\t0\t0\t0\n",
      "1\t!Kung\t0\t0\t0\t0\t0\t0\t0\t0\t0\t1\t0\t0\t0\t0\t0\t0\t0\t0\t0\t0\t0\t0\t0\t0\t0\t0\t0\t0\t0\t0\n",
      "3\t!Kung_language\t0\t0\t0\t0\t0\t0\t0\t0\t0\t3\t0\t0\t0\t0\t0\t0\t0\t0\t0\t0\t0\t0\t0\t0\t0\t0\t0\t0\t0\t0\n",
      "1\t!Women_Art_Revolution\t0\t0\t0\t0\t0\t0\t0\t0\t0\t1\t0\t0\t0\t0\t0\t0\t0\t0\t0\t0\t0\t0\t0\t0\t0\t0\t0\t0\t0\t0\n",
      "1\t!_(The_Dismemberment_Plan_album)\t0\t0\t0\t0\t0\t0\t0\t0\t0\t1\t0\t0\t0\t0\t0\t0\t0\t0\t0\t0\t0\t0\t0\t0\t0\t0\t0\t0\t0\t0\n",
      "1\t!_(album)\t0\t0\t0\t0\t0\t0\t0\t0\t0\t1\t0\t0\t0\t0\t0\t0\t0\t0\t0\t0\t0\t0\t0\t0\t0\t0\t0\t0\t0\t0\n",
      "1\t\"...And_Ladies_of_the_Club\"\t0\t0\t0\t0\t0\t0\t0\t0\t0\t1\t0\t0\t0\t0\t0\t0\t0\t0\t0\t0\t0\t0\t0\t0\t0\t0\t0\t0\t0\t0\n",
      "1\t\"@\"_(album)\t0\t0\t0\t0\t0\t0\t0\t0\t0\t1\t0\t0\t0\t0\t0\t0\t0\t0\t0\t0\t0\t0\t0\t0\t0\t0\t0\t0\t0\t0\n",
      "1\t\"A\"_Is_for_Alibi\t0\t0\t0\t0\t0\t0\t0\t0\t0\t1\t0\t0\t0\t0\t0\t0\t0\t0\t0\t0\t0\t0\t0\t0\t0\t0\t0\t0\t0\t0\n",
      "7\t\"All_My_Friends\"\t0\t0\t0\t0\t0\t0\t0\t0\t0\t7\t0\t0\t0\t0\t0\t0\t0\t0\t0\t0\t0\t0\t0\t0\t0\t0\t0\t0\t0\t0\n",
      "1\t\"C\"_Is_for_(Please_Insert_Sophomoric_Genitalia_Reference_HERE)\t0\t0\t0\t0\t0\t0\t0\t0\t0\t1\t0\t0\t0\t0\t0\t0\t0\t0\t0\t0\t0\t0\t0\t0\t0\t0\t0\t0\t0\t0\n",
      "1\t\"Classic\"_Mac_OS\t0\t0\t0\t0\t0\t0\t0\t0\t0\t1\t0\t0\t0\t0\t0\t0\t0\t0\t0\t0\t0\t0\t0\t0\t0\t0\t0\t0\t0\t0\n",
      "1\t\"Crazy\"_Joe_Davola\t0\t0\t0\t0\t0\t0\t0\t0\t0\t1\t0\t0\t0\t0\t0\t0\t0\t0\t0\t0\t0\t0\t0\t0\t0\t0\t0\t0\t0\t0\n",
      "19\t\"Crocodile\"_Dundee\t0\t0\t0\t0\t0\t0\t0\t0\t0\t19\t0\t0\t0\t0\t0\t0\t0\t0\t0\t0\t0\t0\t0\t0\t0\t0\t0\t0\t0\t0\n",
      "20\t\"Dear_Boss\"_letter\t0\t0\t0\t0\t0\t0\t0\t0\t0\t1\t0\t0\t0\t0\t0\t0\t0\t0\t0\t0\t0\t0\t0\t0\t0\t0\t0\t0\t0\t0\n"
     ]
    }
   ],
   "source": [
    "# input: title 20161110-000000-9\n",
    "import sys\n",
    "\n",
    "current_article = None\n",
    "total_views = 0\n",
    "article = None\n",
    "daily_views=[0]*30 # a list to store daily views\n",
    "\n",
    "# file=open('testData for reducer')\n",
    "# for line in file:\n",
    "for line in sys.stdin:\n",
    "    [article, info] = line.split(); #input: title 20161110-000000-9\n",
    "    [date,hour,views]=info.split(\"-\",2) # output: 20161110 000000 9\n",
    "    date=date[-2:] # output: 10\n",
    "    try:\n",
    "        views=int(views)        \n",
    "        date=int(date)\n",
    "    except ValueError:\n",
    "        continue\n",
    "    if current_article==article: #same article with last line\n",
    "        daily_views[date-1]+=views\n",
    "    else:\n",
    "        if current_article:\n",
    "            total_views=sum(daily_views)  # sum up daily views = total views for article          \n",
    "            if total_views>0:        \n",
    "                print(str(total_views) + \"\\t\"+current_article+ \"\\t\"+\"\\t\".join(str(i) for i in daily_views))\n",
    "        current_article=article\n",
    "        daily_views=[0]*30\n",
    "        daily_views[date-1]=views\n",
    "          \n",
    "if current_article==article:\n",
    "    total_views=sum(i for i in daily_views)\n",
    "    print(str(total_views) + \"\\t\"+current_article+ \"\\t\"+\"\\t\".join(str(i) for i in daily_views))\n"
   ]
  },
  {
   "cell_type": "code",
   "execution_count": null,
   "metadata": {},
   "outputs": [],
   "source": []
  }
 ],
 "metadata": {
  "kernelspec": {
   "display_name": "Python 3",
   "language": "python",
   "name": "python3"
  },
  "language_info": {
   "codemirror_mode": {
    "name": "ipython",
    "version": 3
   },
   "file_extension": ".py",
   "mimetype": "text/x-python",
   "name": "python",
   "nbconvert_exporter": "python",
   "pygments_lexer": "ipython3",
   "version": "3.6.4"
  }
 },
 "nbformat": 4,
 "nbformat_minor": 2
}

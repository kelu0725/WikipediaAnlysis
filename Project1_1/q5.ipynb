{
 "cells": [
  {
   "cell_type": "code",
   "execution_count": 2,
   "metadata": {},
   "outputs": [
    {
     "name": "stdout",
     "output_type": "stream",
     "text": [
      "[\"Electoral_College_(United_States)\", \"Idiot\", \"United_States_presidential_election,_2016\"]\n",
      "<class 'str'>\n"
     ]
    }
   ],
   "source": [
    "import pandas as pd\n",
    "import json\n",
    "from csv import QUOTE_NONE\n",
    "\n",
    "\n",
    "def main():\n",
    "    \"\"\"\n",
    "    Please search and read the following docs to understand the starter code.\n",
    "    \n",
    "    pandas.read_table\n",
    "    \n",
    "        1) With 'squeeze=True', pandas.read_table returns a Series instead of a \n",
    "        DataFrame.\n",
    "        \n",
    "        2) Without 'quoting=QUOTE_NONE', the following records will be \n",
    "        interpreted to share the same title 'Wild_Bill_Hickok':\n",
    "            \"Wild_Bill\"_Hickok\t63\n",
    "            Wild_Bill_Hickok\t40\n",
    "        \n",
    "        3) Without 'keep_default_na=False', the following records will be \n",
    "        interpreted to numpy.nan (Not a Number):\n",
    "            NaN 13\n",
    "\n",
    "    pandas.Index.tolist\n",
    "        to convert the indexes to a list\n",
    "    \n",
    "    \n",
    "    TODO: \n",
    "    * Slice the top 3 articles\n",
    "    * Convert the indexes as a list\n",
    "    * Dump the list as a JSON array\n",
    "    * Print the JSON array to StdOut\n",
    "    \"\"\"\n",
    "    s = pd.read_table('output', header=None, index_col=0, squeeze=True,\n",
    "                      quoting=QUOTE_NONE, keep_default_na=False,\n",
    "                      encoding='utf-8')\n",
    "#     raise NotImplementedError(\"To be implemented\")\n",
    "    index_list=s[:3].index.tolist()\n",
    "    StdOut=json.dumps(index_list)\n",
    "    print(StdOut)\n",
    "    print(type(StdOut))\n",
    "    \n",
    "\n",
    "if __name__ == \"__main__\":\n",
    "    main()\n",
    "\n",
    "\n"
   ]
  },
  {
   "cell_type": "code",
   "execution_count": null,
   "metadata": {},
   "outputs": [],
   "source": []
  }
 ],
 "metadata": {
  "kernelspec": {
   "display_name": "Python 3",
   "language": "python",
   "name": "python3"
  },
  "language_info": {
   "codemirror_mode": {
    "name": "ipython",
    "version": 3
   },
   "file_extension": ".py",
   "mimetype": "text/x-python",
   "name": "python",
   "nbconvert_exporter": "python",
   "pygments_lexer": "ipython3",
   "version": "3.6.4"
  }
 },
 "nbformat": 4,
 "nbformat_minor": 2
}

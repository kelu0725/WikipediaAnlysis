{
 "cells": [
  {
   "cell_type": "code",
   "execution_count": 1,
   "metadata": {},
   "outputs": [
    {
     "name": "stdout",
     "output_type": "stream",
     "text": [
      "{\"Tim_Kaine\":1,\"Bernie_Sanders\":2,\"Kamala_Harris\":3,\"John_McCain\":4,\"Rand_Paul\":5,\"Ted_Cruz\":6,\"Maggie_Hassan\":7,\"Marco_Rubio\":8,\"Tammy_Duckworth\":9,\"Kelly_Ayotte\":10,\"Chuck_Schumer\":11,\"Elizabeth_Warren\":12,\"Harry_Reid\":13,\"Rob_Portman\":14,\"Todd_Young\":15,\"Mitch_McConnell\":16,\"Pat_Toomey\":17,\"Mark_Kirk\":18,\"Lindsey_Graham\":19,\"Cory_Booker\":20,\"Roy_Blunt\":21,\"Dianne_Feinstein\":22,\"Richard_Burr\":23,\"Orrin_Hatch\":23,\"Kirsten_Gillibrand\":25,\"Barbara_Boxer\":26,\"Angus_King\":27,\"Michael_Bennet\":28,\"Al_Franken\":29,\"Chris_Van_Hollen\":30,\"Patrick_Leahy\":30,\"Richard_Blumenthal\":32,\"Dan_Coats\":33,\"Tom_Cotton\":33,\"Johnny_Isakson\":35,\"Richard_Shelby\":36,\"John_Neely_Kennedy\":36,\"Ben_Sasse\":36,\"Barbara_Mikulski\":39,\"Jeanne_Shaheen\":39,\"Mark_Warner\":41,\"Catherine_Cortez_Masto\":41,\"Chuck_Grassley\":43,\"Tim_Scott\":44,\"Patty_Murray\":45,\"Bob_Menendez\":46,\"Dick_Durbin\":46,\"Tammy_Baldwin\":48,\"John_Cornyn\":49,\"Sherrod_Brown\":50,\"Joe_Donnelly\":51,\"Bill_Nelson\":52,\"Lisa_Murkowski\":52,\"Bob_Casey_Jr.\":54,\"Ron_Wyden\":54,\"Brian_Schatz\":56,\"Amy_Klobuchar\":57,\"Claire_McCaskill\":58,\"Ed_Markey\":59,\"Susan_Collins\":60,\"James_Lankford\":60,\"Jim_Inhofe\":62,\"Jerry_Moran\":63,\"Maria_Cantwell\":64,\"Jeff_Sessions\":65,\"Jeff_Flake\":65,\"Joni_Ernst\":67,\"John_Thune\":67,\"Lamar_Alexander\":67,\"David_Vitter\":70,\"John_Boozman\":71,\"Mazie_Hirono\":71,\"Bob_Corker\":73,\"Thom_Tillis\":74,\"Dean_Heller\":75,\"Joe_Manchin\":75,\"Mike_Crapo\":77,\"Ben_Cardin\":78,\"Thad_Cochran\":78,\"Debbie_Stabenow\":78,\"Cory_Gardner\":81,\"Jon_Tester\":82,\"Gary_Peters_(politician)\":83,\"Jack_Reed_(politician)\":83,\"Sheldon_Whitehouse\":85,\"Heidi_Heitkamp\":85,\"Tom_Carper\":85,\"Steve_Daines\":85,\"John_Hoeven\":85,\"Pat_Roberts\":90,\"Shelley_Moore_Capito\":90,\"David_Perdue\":90,\"Jeff_Merkley\":90,\"Tom_Udall\":90,\"Chris_Coons\":90,\"Bill_Cassidy\":96,\"Mike_Enzi\":97,\"Dan_Sullivan_(U.S._Senator)\":97,\"Deb_Fischer\":97,\"Jim_Risch\":100,\"John_Barrasso\":100,\"Martin_Heinrich\":102,\"Roger_Wicker\":102,\"Mike_Rounds\":104,\"Chris_Murphy\":105,\"Mike_Lee\":106,\"Ron_Johnson\":107}\n"
     ]
    }
   ],
   "source": [
    "import pandas as pd\n",
    "from csv import QUOTE_NONE\n",
    "import json\n",
    "import sys\n",
    "\n",
    "def main():\n",
    "    \"\"\"\n",
    "    Please search and read the docs of the following methods.\n",
    "\n",
    "    pandas.Series.loc or pandas.Series.filter\n",
    "        to filter the articles of the senators\n",
    "\n",
    "    pandas.Series.rank\n",
    "        to compute the ranking, specific parameters are needed\n",
    "\n",
    "    pandas.Series.astype\n",
    "        to cast the data type (to int)\n",
    "\n",
    "    pandas.Series.to_json\n",
    "        to convert the series to a JSON string\n",
    "    \"\"\"\n",
    "    s = pd.read_table('output', header=None, index_col=0, squeeze=True,\n",
    "                      quoting=QUOTE_NONE, keep_default_na=False,\n",
    "                      encoding='utf-8')\n",
    "     # raise NotImplementedError(\"To be implemented\")\n",
    "    senators = open('senators.txt')\n",
    "    lines= [line.strip() for line in senators]\n",
    "    s=s.loc[lines]\n",
    "#     s = s.groupby(s.index).sum().rank(method='min',ascending=False).astype(int)\n",
    "    s = s.rank(method='min',ascending=False).astype(int)\n",
    "    \n",
    "    s= s.sort_values()\n",
    "    s=s.to_json()\n",
    "#     s= json.loads(s)\n",
    "#     print(type(s))\n",
    "    print(s)\n",
    "\n",
    "    \n",
    "\n",
    "if __name__ == \"__main__\":\n",
    "    main()\n"
   ]
  },
  {
   "cell_type": "code",
   "execution_count": null,
   "metadata": {},
   "outputs": [],
   "source": []
  },
  {
   "cell_type": "code",
   "execution_count": null,
   "metadata": {},
   "outputs": [],
   "source": []
  }
 ],
 "metadata": {
  "kernelspec": {
   "display_name": "Python 3",
   "language": "python",
   "name": "python3"
  },
  "language_info": {
   "codemirror_mode": {
    "name": "ipython",
    "version": 3
   },
   "file_extension": ".py",
   "mimetype": "text/x-python",
   "name": "python",
   "nbconvert_exporter": "python",
   "pygments_lexer": "ipython3",
   "version": "3.6.4"
  }
 },
 "nbformat": 4,
 "nbformat_minor": 2
}

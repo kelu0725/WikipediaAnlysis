{
 "cells": [
  {
   "cell_type": "code",
   "execution_count": 21,
   "metadata": {},
   "outputs": [
    {
     "name": "stdout",
     "output_type": "stream",
     "text": [
      "[\"Idiot\", \"Electoral_College_(United_States)\", \"United_States_presidential_election,_2016\"]\n"
     ]
    }
   ],
   "source": [
    "# q5\n",
    "# import pandas as pd\n",
    "# import json\n",
    "# from csv import QUOTE_NONE\n",
    "# s = pd.read_table('output', header=None, index_col=0, squeeze=True,\n",
    "#                       quoting=QUOTE_NONE, keep_default_na=False,\n",
    "#                       encoding='utf-8')\n",
    "# index_list=s[:3].index.tolist()\n",
    "# StdOut=json.dumps(index_list)\n",
    "# print(StdOut)\n",
    "# q6\n",
    "import pandas as pd\n",
    "from csv import QUOTE_NONE\n",
    "s = pd.read_table('senators.txt', header=None, index_col=0, squeeze=True,\n",
    "                      quoting=QUOTE_NONE, keep_default_na=False,\n",
    "                      encoding='utf-8')\n",
    "\n",
    "\n"
   ]
  },
  {
   "cell_type": "code",
   "execution_count": null,
   "metadata": {},
   "outputs": [],
   "source": []
  }
 ],
 "metadata": {
  "kernelspec": {
   "display_name": "Python 3",
   "language": "python",
   "name": "python3"
  },
  "language_info": {
   "codemirror_mode": {
    "name": "ipython",
    "version": 3
   },
   "file_extension": ".py",
   "mimetype": "text/x-python",
   "name": "python",
   "nbconvert_exporter": "python",
   "pygments_lexer": "ipython3",
   "version": "3.6.4"
  }
 },
 "nbformat": 4,
 "nbformat_minor": 2
}

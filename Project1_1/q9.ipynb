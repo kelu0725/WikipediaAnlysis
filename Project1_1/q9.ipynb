{
 "cells": [
  {
   "cell_type": "code",
   "execution_count": 1,
   "metadata": {},
   "outputs": [
    {
     "name": "stdout",
     "output_type": "stream",
     "text": [
      "{\"1895\":120,\"1896\":114,\"1897\":115,\"1899\":117,\"1900\":117,\"1901\":120,\"1903\":108,\"1904\":120,\"1905\":116,\"1906\":120,\"1907\":111,\"1908\":111,\"1910\":102,\"1911\":110,\"1912\":105,\"1913\":109,\"1914\":95,\"1915\":101,\"1916\":104,\"1917\":107,\"1918\":106,\"1919\":99,\"1920\":100,\"1921\":96,\"1922\":103,\"1923\":96,\"1924\":98,\"1925\":89,\"1926\":91,\"1927\":69,\"1928\":93,\"1929\":94,\"1930\":90,\"1931\":70,\"1932\":78,\"1933\":78,\"1934\":82,\"1935\":74,\"1936\":81,\"1937\":67,\"1938\":92,\"1939\":42,\"1940\":51,\"1941\":73,\"1942\":88,\"1943\":86,\"1944\":75,\"1945\":87,\"1946\":71,\"1947\":84,\"1948\":83,\"1949\":80,\"1950\":66,\"1951\":63,\"1952\":76,\"1953\":59,\"1954\":63,\"1955\":76,\"1956\":47,\"1957\":62,\"1958\":65,\"1959\":49,\"1960\":39,\"1961\":72,\"1962\":41,\"1963\":61,\"1964\":53,\"1965\":85,\"1966\":60,\"1967\":57,\"1968\":58,\"1969\":68,\"1970\":55,\"1971\":54,\"1972\":50,\"1973\":40,\"1974\":46,\"1975\":56,\"1976\":44,\"1977\":52,\"1978\":31,\"1979\":43,\"1980\":37,\"1981\":38,\"1982\":34,\"1983\":36,\"1984\":45,\"1985\":35,\"1986\":33,\"1987\":32,\"1988\":30,\"1989\":26,\"1990\":29,\"1991\":28,\"1992\":24,\"1993\":27,\"1994\":25,\"1995\":20,\"1996\":16,\"1997\":17,\"1998\":22,\"1999\":18,\"2000\":19,\"2001\":23,\"2002\":14,\"2003\":21,\"2004\":12,\"2005\":10,\"2006\":13,\"2007\":15,\"2008\":9,\"2009\":11,\"2010\":5,\"2011\":8,\"2012\":7,\"2013\":6,\"2014\":3,\"2015\":2,\"2016\":1,\"2017\":3,\"2018\":48,\"2019\":111,\"2020\":117}"
     ]
    }
   ],
   "source": [
    "import numpy as np\n",
    "import pandas as pd\n",
    "import re\n",
    "import sys\n",
    "from csv import QUOTE_NONE\n",
    "\n",
    "\n",
    "def get_year(article):\n",
    "    \"\"\"\n",
    "    Use regex capturing groups to convert the article and return the year \n",
    "    if it ends with \"_(yyyy_film)\", otherwise return np.nan\n",
    "    \n",
    "    this is the only function you need to implement\n",
    "    \n",
    "    :param article: the article\n",
    "    :return: the year or np.nan\n",
    "    \"\"\"\n",
    "    \n",
    "    res=re.search(r'\\_\\([1-9][0-9][0-9][0-9]_film\\)$',article)\n",
    "    if res!=None:\n",
    "        return article[-10:-6]\n",
    "    else:\n",
    "        return np.nan\n",
    "        \n",
    "#     raise NotImplementedError(\"To be implemented\")\n",
    "\n",
    "\n",
    "def main():\n",
    "    \"\"\"\n",
    "    Please search and read the docs of the following methods.\n",
    "    \n",
    "    pandas.Index.map\n",
    "        to apply mapper function to an index\n",
    "        \n",
    "    pandas.Series.rank\n",
    "        to compute the ranking, specific parameters are needed\n",
    "        \n",
    "    pandas.Series.astype\n",
    "        to cast the data type (to int)\n",
    "        \n",
    "    pandas.Series.to_json\n",
    "        to convert the series to a JSON string\n",
    "    \"\"\"\n",
    "    s = pd.read_table('output', header=None, index_col=0, squeeze=True,\n",
    "                      quoting=QUOTE_NONE, keep_default_na=False,\n",
    "                      encoding='utf-8')\n",
    "    # convert each article to the year\n",
    "    s.index = s.index.map(get_year)\n",
    "    # group by, sum and rank the years\n",
    "    # NA groups in GroupBy are automatically excluded\n",
    "    ranking = s.groupby(s.index).sum().rank(method='min',ascending=False).astype(int)\n",
    "    # convert to JSON and write to StdOut\n",
    "    ranking.to_json(sys.stdout)\n",
    "\n",
    "\n",
    "if __name__ == \"__main__\":\n",
    "    main()\n"
   ]
  },
  {
   "cell_type": "code",
   "execution_count": null,
   "metadata": {},
   "outputs": [],
   "source": []
  }
 ],
 "metadata": {
  "kernelspec": {
   "display_name": "Python 3",
   "language": "python",
   "name": "python3"
  },
  "language_info": {
   "codemirror_mode": {
    "name": "ipython",
    "version": 3
   },
   "file_extension": ".py",
   "mimetype": "text/x-python",
   "name": "python",
   "nbconvert_exporter": "python",
   "pygments_lexer": "ipython3",
   "version": "3.6.4"
  }
 },
 "nbformat": 4,
 "nbformat_minor": 2
}

{
 "cells": [
  {
   "cell_type": "code",
   "execution_count": 2,
   "metadata": {},
   "outputs": [
    {
     "name": "stdout",
     "output_type": "stream",
     "text": [
      "<class 'dict'>\n",
      "media:\n",
      "special:\n",
      "talk:\n",
      "user:\n",
      "user_talk:\n",
      "wikipedia:\n",
      "wikipedia_talk:\n",
      "file:\n",
      "file_talk:\n",
      "mediawiki:\n",
      "mediawiki_talk:\n",
      "template:\n",
      "template_talk:\n",
      "help:\n",
      "help_talk:\n",
      "category:\n",
      "category_talk:\n",
      "portal:\n",
      "portal_talk:\n",
      "book:\n",
      "book_talk:\n",
      "draft:\n",
      "draft_talk:\n",
      "education_program:\n",
      "education_program_talk:\n",
      "timedtext:\n",
      "timedtext_talk:\n",
      "module:\n",
      "module_talk:\n",
      "gadget:\n",
      "gadget_talk:\n",
      "gadget_definition:\n",
      "gadget_definition_talk:\n"
     ]
    }
   ],
   "source": [
    "import json\n",
    "import urllib.request\n",
    "j= urllib.request.urlopen('https://en.wikipedia.org/w/api.php?action=query&meta=siteinfo&siprop=namespaces&format=json')\n",
    "# raw_data = json.load(j.content.decode('utf-8'))\n",
    "raw_data = json.loads(j.read().decode('utf-8'))\n",
    "# raw=json.load(j)\n",
    "print(type(raw_data))\n",
    "# print(type(raw))\n",
    "# list=[]\n",
    "for key,value in raw_data['query']['namespaces'].items():\n",
    "    if len(value['*'])==0:\n",
    "        continue\n",
    "    name = value['*'].lower().replace(\" \",\"_\")+\":\"\n",
    "    print(name)"
   ]
  },
  {
   "cell_type": "code",
   "execution_count": null,
   "metadata": {},
   "outputs": [],
   "source": []
  }
 ],
 "metadata": {
  "kernelspec": {
   "display_name": "Python 3",
   "language": "python",
   "name": "python3"
  },
  "language_info": {
   "codemirror_mode": {
    "name": "ipython",
    "version": 3
   },
   "file_extension": ".py",
   "mimetype": "text/x-python",
   "name": "python",
   "nbconvert_exporter": "python",
   "pygments_lexer": "ipython3",
   "version": "3.6.4"
  }
 },
 "nbformat": 4,
 "nbformat_minor": 2
}
